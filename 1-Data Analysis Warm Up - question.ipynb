{
 "cells": [
  {
   "cell_type": "code",
   "execution_count": 1,
   "id": "d4268c55",
   "metadata": {},
   "outputs": [],
   "source": [
    "import numpy as np\n",
    "import pandas as pd"
   ]
  },
  {
   "cell_type": "code",
   "execution_count": 2,
   "id": "45bbcde1",
   "metadata": {},
   "outputs": [
    {
     "data": {
      "text/html": [
       "<div>\n",
       "<style scoped>\n",
       "    .dataframe tbody tr th:only-of-type {\n",
       "        vertical-align: middle;\n",
       "    }\n",
       "\n",
       "    .dataframe tbody tr th {\n",
       "        vertical-align: top;\n",
       "    }\n",
       "\n",
       "    .dataframe thead th {\n",
       "        text-align: right;\n",
       "    }\n",
       "</style>\n",
       "<table border=\"1\" class=\"dataframe\">\n",
       "  <thead>\n",
       "    <tr style=\"text-align: right;\">\n",
       "      <th></th>\n",
       "      <th>Name</th>\n",
       "      <th>Marks</th>\n",
       "      <th>Gender</th>\n",
       "    </tr>\n",
       "  </thead>\n",
       "  <tbody>\n",
       "    <tr>\n",
       "      <th>0</th>\n",
       "      <td>Priyang</td>\n",
       "      <td>98</td>\n",
       "      <td>Male</td>\n",
       "    </tr>\n",
       "    <tr>\n",
       "      <th>1</th>\n",
       "      <td>Aadhya</td>\n",
       "      <td>89</td>\n",
       "      <td>Female</td>\n",
       "    </tr>\n",
       "    <tr>\n",
       "      <th>2</th>\n",
       "      <td>Krisha</td>\n",
       "      <td>99</td>\n",
       "      <td>Female</td>\n",
       "    </tr>\n",
       "    <tr>\n",
       "      <th>3</th>\n",
       "      <td>Vedant</td>\n",
       "      <td>87</td>\n",
       "      <td>Male</td>\n",
       "    </tr>\n",
       "    <tr>\n",
       "      <th>4</th>\n",
       "      <td>Parshv</td>\n",
       "      <td>90</td>\n",
       "      <td>Male</td>\n",
       "    </tr>\n",
       "    <tr>\n",
       "      <th>5</th>\n",
       "      <td>Mittal</td>\n",
       "      <td>83</td>\n",
       "      <td>Female</td>\n",
       "    </tr>\n",
       "    <tr>\n",
       "      <th>6</th>\n",
       "      <td>Archana</td>\n",
       "      <td>99</td>\n",
       "      <td>Female</td>\n",
       "    </tr>\n",
       "  </tbody>\n",
       "</table>\n",
       "</div>"
      ],
      "text/plain": [
       "      Name  Marks  Gender\n",
       "0  Priyang     98    Male\n",
       "1   Aadhya     89  Female\n",
       "2   Krisha     99  Female\n",
       "3   Vedant     87    Male\n",
       "4   Parshv     90    Male\n",
       "5   Mittal     83  Female\n",
       "6  Archana     99  Female"
      ]
     },
     "execution_count": 2,
     "metadata": {},
     "output_type": "execute_result"
    }
   ],
   "source": [
    "dict1 ={'Name':['Priyang','Aadhya','Krisha','Vedant','Parshv',\n",
    "                'Mittal','Archana'],\n",
    "                'Marks':[98,89,99,87,90,83,99],\n",
    "                'Gender':['Male','Female','Female','Male','Male',\n",
    "                         'Female','Female']\n",
    "               }\n",
    "df1=pd.DataFrame(dict1)\n",
    "df1"
   ]
  },
  {
   "cell_type": "markdown",
   "id": "1ece48af",
   "metadata": {},
   "source": [
    "# 1. Display Top 3 rows of DataSet"
   ]
  },
  {
   "cell_type": "code",
   "execution_count": null,
   "id": "7acf2032",
   "metadata": {},
   "outputs": [],
   "source": []
  },
  {
   "cell_type": "markdown",
   "id": "b6d81282",
   "metadata": {},
   "source": [
    "# 2.Check last 3 rows of Dataset"
   ]
  },
  {
   "cell_type": "code",
   "execution_count": null,
   "id": "a922e0f2",
   "metadata": {},
   "outputs": [],
   "source": []
  },
  {
   "cell_type": "markdown",
   "id": "22a810bf",
   "metadata": {},
   "source": [
    "# 3. Find Shape of our Dataset (no. of rows & columns in dataset)"
   ]
  },
  {
   "cell_type": "code",
   "execution_count": null,
   "id": "306fb7a1",
   "metadata": {},
   "outputs": [],
   "source": []
  },
  {
   "cell_type": "code",
   "execution_count": null,
   "id": "6e8def17",
   "metadata": {},
   "outputs": [],
   "source": []
  },
  {
   "cell_type": "markdown",
   "id": "36ec354d",
   "metadata": {},
   "source": [
    "# 4. Get Information  about our dataset like total number of rows, columns, datatypes of each columns & memory requirements"
   ]
  },
  {
   "cell_type": "code",
   "execution_count": null,
   "id": "ede5baaa",
   "metadata": {},
   "outputs": [],
   "source": []
  },
  {
   "cell_type": "markdown",
   "id": "4c83c067",
   "metadata": {},
   "source": [
    "# 5. Check null values in the dataset"
   ]
  },
  {
   "cell_type": "code",
   "execution_count": null,
   "id": "f4e88e22",
   "metadata": {},
   "outputs": [],
   "source": []
  },
  {
   "cell_type": "markdown",
   "id": "ababb273",
   "metadata": {},
   "source": [
    "# 6. Get overall Statistics about the dataframe"
   ]
  },
  {
   "cell_type": "code",
   "execution_count": null,
   "id": "95db93c7",
   "metadata": {},
   "outputs": [],
   "source": []
  },
  {
   "cell_type": "markdown",
   "id": "9609eb7d",
   "metadata": {},
   "source": [
    "# 7.Find unique values from the Gender column"
   ]
  },
  {
   "cell_type": "code",
   "execution_count": null,
   "id": "d3ed1e7f",
   "metadata": {},
   "outputs": [],
   "source": []
  },
  {
   "cell_type": "markdown",
   "id": "a7e3ed1e",
   "metadata": {},
   "source": [
    "# 8.Find the number of unique values from the gender column"
   ]
  },
  {
   "cell_type": "code",
   "execution_count": null,
   "id": "5cb22b9e",
   "metadata": {},
   "outputs": [],
   "source": []
  },
  {
   "cell_type": "markdown",
   "id": "53f2e848",
   "metadata": {},
   "source": [
    "# 9. Display count of unique values in Gender column"
   ]
  },
  {
   "cell_type": "code",
   "execution_count": null,
   "id": "e6568f8d",
   "metadata": {},
   "outputs": [],
   "source": []
  },
  {
   "cell_type": "markdown",
   "id": "c38dc6ff",
   "metadata": {},
   "source": [
    "## 10. Find total number of students having marks between 90 to 100 (inclusive) using between method"
   ]
  },
  {
   "cell_type": "code",
   "execution_count": null,
   "id": "79aec28d",
   "metadata": {},
   "outputs": [],
   "source": []
  },
  {
   "cell_type": "code",
   "execution_count": null,
   "id": "e36704ba",
   "metadata": {},
   "outputs": [],
   "source": []
  },
  {
   "cell_type": "code",
   "execution_count": null,
   "id": "56195c11",
   "metadata": {},
   "outputs": [],
   "source": []
  },
  {
   "cell_type": "markdown",
   "id": "4a57ef5e",
   "metadata": {},
   "source": [
    "## 11. Find Average Marks"
   ]
  },
  {
   "cell_type": "code",
   "execution_count": null,
   "id": "7da8e668",
   "metadata": {},
   "outputs": [],
   "source": []
  },
  {
   "cell_type": "markdown",
   "id": "b98f8cbc",
   "metadata": {},
   "source": [
    "## 12. Drop the Columns"
   ]
  },
  {
   "cell_type": "code",
   "execution_count": null,
   "id": "472b09f8",
   "metadata": {},
   "outputs": [],
   "source": []
  },
  {
   "cell_type": "code",
   "execution_count": null,
   "id": "74ef7b58",
   "metadata": {},
   "outputs": [],
   "source": []
  },
  {
   "cell_type": "markdown",
   "id": "849249de",
   "metadata": {},
   "source": [
    "## 13. Print name of the columns"
   ]
  },
  {
   "cell_type": "code",
   "execution_count": null,
   "id": "f48b8a79",
   "metadata": {},
   "outputs": [],
   "source": []
  },
  {
   "cell_type": "markdown",
   "id": "98fe1629",
   "metadata": {},
   "source": [
    "##  14. Sort the Dataframe as per the marks column"
   ]
  },
  {
   "cell_type": "code",
   "execution_count": null,
   "id": "95a31687",
   "metadata": {},
   "outputs": [],
   "source": []
  },
  {
   "cell_type": "markdown",
   "id": "c2ad3de0",
   "metadata": {},
   "source": [
    "## 15. Display the name & marks of female students"
   ]
  },
  {
   "cell_type": "code",
   "execution_count": null,
   "id": "dbda9aeb",
   "metadata": {},
   "outputs": [],
   "source": []
  },
  {
   "cell_type": "code",
   "execution_count": null,
   "id": "dd436baf",
   "metadata": {},
   "outputs": [],
   "source": []
  }
 ],
 "metadata": {
  "kernelspec": {
   "display_name": "Python 3 (ipykernel)",
   "language": "python",
   "name": "python3"
  },
  "language_info": {
   "codemirror_mode": {
    "name": "ipython",
    "version": 3
   },
   "file_extension": ".py",
   "mimetype": "text/x-python",
   "name": "python",
   "nbconvert_exporter": "python",
   "pygments_lexer": "ipython3",
   "version": "3.11.3"
  }
 },
 "nbformat": 4,
 "nbformat_minor": 5
}
