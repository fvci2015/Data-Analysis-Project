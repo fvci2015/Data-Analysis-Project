{
 "cells": [
  {
   "cell_type": "markdown",
   "id": "23c87c6e",
   "metadata": {},
   "source": [
    "# Google Play Store EDA\n",
    "___________________________________________________________________________________"
   ]
  },
  {
   "cell_type": "markdown",
   "id": "e239fb81",
   "metadata": {},
   "source": [
    "## Problem Statement\n",
    "___________________________________________________________________________________"
   ]
  },
  {
   "cell_type": "markdown",
   "id": "20bb66d5",
   "metadata": {},
   "source": [
    "The objective of this analysis is to perform an Exploratory Data Analysis (EDA) on a dataset containing information about apps available on the Google Play Store.\n",
    "\n",
    "The goal is to extract valuable insights that can guide app developers, marketers, and businesses in understanding app performance, user preferences, and industry trends. Specifically, the analysis focuses on evaluating app characteristics such as ratings, reviews, pricing models, and categories, as well as identifying any correlations or patterns that might influence user behavior and app success."
   ]
  },
  {
   "cell_type": "markdown",
   "id": "a01a0d99",
   "metadata": {},
   "source": [
    "# Business Problem Overview\n",
    "___________________________________________________________________________________"
   ]
  },
  {
   "cell_type": "markdown",
   "id": "ef397505",
   "metadata": {},
   "source": [
    "The mobile app industry, particularly the Google Play Store, is a highly competitive and dynamic marketplace where app developers, businesses, and marketers are constantly striving to create high-quality apps that meet user needs and preferences. With over 10,000 apps available across a wide range of categories, the challenge is not only to develop an app that users will love but also to ensure that it stands out in a crowded marketplace. Success in the app market is often determined by factors such as app quality, user ratings, number of reviews, category performance, and the pricing model (free vs. paid).\n",
    "\n",
    "For businesses and developers, understanding the factors that drive user satisfaction and app success is essential to making data-driven decisions that optimize app development, marketing strategies, and monetization approaches. However, without in-depth insights into the performance and trends within the Play Store, businesses may struggle to identify profitable niches, understand user preferences, or allocate resources efficiently."
   ]
  },
  {
   "cell_type": "markdown",
   "id": "ededa43c",
   "metadata": {},
   "source": [
    "# Understanding and Defining the Dataset\n",
    "___________________________________________________________________________________"
   ]
  },
  {
   "cell_type": "markdown",
   "id": "2f8968e7",
   "metadata": {},
   "source": [
    "The Google Play Store is an official digital distribution platform for mobile apps developed for Android devices. It serves as the primary marketplace where users can browse, download, and install applications (apps) for their Android smartphones, tablets, and other compatible devices. The Play Store is operated by Google and offers a wide range of content, including apps, games, music, books, movies, and more.\n",
    "\n",
    "In the context of the provided Exploratory Data Analysis (EDA) code, the dataset is sourced from the Google Play Store and contains essential information about the apps available on the platform. The Google Play Store dataset is used to analyze various app attributes, such as app categories, ratings, reviews, pricing, and the number of installs. The primary goal of this EDA is to uncover valuable insights from the Play Store app data, which can help businesses, developers, and marketers optimize their strategies for app development, user engagement, and monetization."
   ]
  },
  {
   "cell_type": "markdown",
   "id": "f4630d02",
   "metadata": {},
   "source": [
    "# Data Dictionary\n",
    "___________________________________________________________________________________"
   ]
  },
  {
   "cell_type": "markdown",
   "id": "753fedbb",
   "metadata": {},
   "source": [
    "The dataset has 13 columns and 10841 rows."
   ]
  },
  {
   "cell_type": "markdown",
   "id": "dcf6d7ff",
   "metadata": {},
   "source": [
    "# Project Pipeline\n",
    "___________________________________________________________________________________"
   ]
  },
  {
   "cell_type": "markdown",
   "id": "c6df4625",
   "metadata": {},
   "source": [
    "The project pipeline can be briefly summarized in the following steps:\n",
    "1. Data Understanding: Here, we need to load the data and understand the features present in it. This would help us choose the features that we will need for your final model.\n",
    "\n",
    "\n",
    "2. Exploratory data analytics (EDA): Normally, in this step, we need to perform univariate and bivariate analyses of the data, followed by feature transformations, if necessary. For the current data set, because Gaussian variables are used, we do not need to perform Z-scaling. However, you can check if there is any skewness in the data and try to mitigate it, as it might cause problems during the model-building phase."
   ]
  },
  {
   "cell_type": "code",
   "execution_count": null,
   "id": "75cc976b",
   "metadata": {},
   "outputs": [],
   "source": []
  }
 ],
 "metadata": {
  "kernelspec": {
   "display_name": "Python 3 (ipykernel)",
   "language": "python",
   "name": "python3"
  },
  "language_info": {
   "codemirror_mode": {
    "name": "ipython",
    "version": 3
   },
   "file_extension": ".py",
   "mimetype": "text/x-python",
   "name": "python",
   "nbconvert_exporter": "python",
   "pygments_lexer": "ipython3",
   "version": "3.11.3"
  }
 },
 "nbformat": 4,
 "nbformat_minor": 5
}
